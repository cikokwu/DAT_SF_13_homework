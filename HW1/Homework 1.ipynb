{
 "cells": [
  {
   "cell_type": "code",
   "execution_count": 1,
   "metadata": {
    "collapsed": true
   },
   "outputs": [],
   "source": [
    "import pandas as pd\n",
    "import numpy as np\n",
    "titanic = pd.read_csv(open(\"/Users/chuka.ikokwu/Desktop/general_assembly/HW/titanic.csv\"))"
   ]
  },
  {
   "cell_type": "code",
   "execution_count": 2,
   "metadata": {
    "collapsed": false
   },
   "outputs": [
    {
     "data": {
      "text/plain": [
       "891"
      ]
     },
     "execution_count": 2,
     "metadata": {},
     "output_type": "execute_result"
    }
   ],
   "source": [
    "#1. How many passengers in list\n",
    "titanic.Name.count() "
   ]
  },
  {
   "cell_type": "code",
   "execution_count": 4,
   "metadata": {
    "collapsed": false
   },
   "outputs": [
    {
     "data": {
      "text/plain": [
       "0.38"
      ]
     },
     "execution_count": 4,
     "metadata": {},
     "output_type": "execute_result"
    }
   ],
   "source": [
    "#2. What is the overall survival rate?\n",
    "round(titanic.Survived[titanic.Survived == 1].count()/float(titanic.Survived.count()),2)"
   ]
  },
  {
   "cell_type": "code",
   "execution_count": 5,
   "metadata": {
    "collapsed": false
   },
   "outputs": [
    {
     "data": {
      "text/plain": [
       "577"
      ]
     },
     "execution_count": 5,
     "metadata": {},
     "output_type": "execute_result"
    }
   ],
   "source": [
    "#3. How many male passengers were onboard?\n",
    "titanic.Sex[titanic.Sex == 'male'].count()"
   ]
  },
  {
   "cell_type": "code",
   "execution_count": 6,
   "metadata": {
    "collapsed": false
   },
   "outputs": [
    {
     "data": {
      "text/plain": [
       "314"
      ]
     },
     "execution_count": 6,
     "metadata": {},
     "output_type": "execute_result"
    }
   ],
   "source": [
    "#3. How many female passengers were onboard?\n",
    "titanic.Sex[titanic.Sex == 'female'].count()"
   ]
  },
  {
   "cell_type": "code",
   "execution_count": 11,
   "metadata": {
    "collapsed": false
   },
   "outputs": [
    {
     "data": {
      "text/plain": [
       "0.19"
      ]
     },
     "execution_count": 11,
     "metadata": {},
     "output_type": "execute_result"
    }
   ],
   "source": [
    "#6. What is the overall survival rate of female passengers?\n",
    "round(titanic.Survived[titanic.Survived == 1][titanic.Sex == 'male'].count()/float(titanic.Survived[titanic.Sex == 'male'].count()),2)\n"
   ]
  },
  {
   "cell_type": "code",
   "execution_count": 14,
   "metadata": {
    "collapsed": false
   },
   "outputs": [
    {
     "data": {
      "text/plain": [
       "29.7"
      ]
     },
     "execution_count": 14,
     "metadata": {},
     "output_type": "execute_result"
    }
   ],
   "source": [
    "#7. What is the average age of all passengers onboard?\n",
    "#a. I used the numpy mean function for this \n",
    "round(np.mean(titanic.Age[~np.isnan(titanic.Age)]),1)"
   ]
  },
  {
   "cell_type": "code",
   "execution_count": 15,
   "metadata": {
    "collapsed": false
   },
   "outputs": [
    {
     "name": "stdout",
     "output_type": "stream",
     "text": [
      "I dealt with this by using the isnan function to average the ages of only those with ages; I could have also replaced the nans with an overall average\n"
     ]
    }
   ],
   "source": [
    "#b. Note that some of the passengers do not have an age value. How did you deal with this? What are some other ways of dealing with this?\n",
    "print \"I dealt with this by using the isnan function to average the ages of only those with ages; I could have also replaced the nans with an overall average\""
   ]
  },
  {
   "cell_type": "code",
   "execution_count": 18,
   "metadata": {
    "collapsed": false
   },
   "outputs": [
    {
     "data": {
      "text/plain": [
       "28.3"
      ]
     },
     "execution_count": 18,
     "metadata": {},
     "output_type": "execute_result"
    }
   ],
   "source": [
    "#8. What is the average age of passengers who survived?\n",
    "round(np.mean(titanic.Age[~np.isnan(titanic.Age)][titanic.Survived == 1]),1)"
   ]
  },
  {
   "cell_type": "code",
   "execution_count": 19,
   "metadata": {
    "collapsed": false
   },
   "outputs": [
    {
     "data": {
      "text/plain": [
       "30.6"
      ]
     },
     "execution_count": 19,
     "metadata": {},
     "output_type": "execute_result"
    }
   ],
   "source": [
    "#9. What is the average age of passengers who did not survive?\n",
    "round(np.mean(titanic.Age[~np.isnan(titanic.Age)][titanic.Survived == 0]),1)"
   ]
  },
  {
   "cell_type": "code",
   "execution_count": 21,
   "metadata": {
    "collapsed": false
   },
   "outputs": [
    {
     "name": "stdout",
     "output_type": "stream",
     "text": [
      "The younger people survived and females seemed to have a higher survival rate likely because there were a lot of gentlemen; it's also likely that folks focused on saving children as well hence why the survival rate may have skewed\n"
     ]
    }
   ],
   "source": [
    "#10. At this (early) point in our analysis, what might you infer about any patterns you are seeing?\n",
    "print \"The younger people survived and females seemed to have a higher survival rate likely because there were a lot of gentlemen; it's also likely that folks focused on saving children as well hence why the survival rate may have skewed\""
   ]
  },
  {
   "cell_type": "code",
   "execution_count": 22,
   "metadata": {
    "collapsed": false
   },
   "outputs": [
    {
     "data": {
      "text/plain": [
       "3    491\n",
       "1    216\n",
       "2    184\n",
       "dtype: int64"
      ]
     },
     "execution_count": 22,
     "metadata": {},
     "output_type": "execute_result"
    }
   ],
   "source": [
    "#11. How many passengers are in each of the three classes of service (e.g. First, Second, Third?)\n",
    "titanic.Pclass.value_counts()"
   ]
  },
  {
   "cell_type": "code",
   "execution_count": 42,
   "metadata": {
    "collapsed": false
   },
   "outputs": [
    {
     "data": {
      "text/plain": [
       "Third     491\n",
       "First     216\n",
       "Second    184\n",
       "dtype: int64"
      ]
     },
     "execution_count": 42,
     "metadata": {},
     "output_type": "execute_result"
    }
   ],
   "source": [
    "titanic.Class = titanic.Pclass.map({1 : \"First\", 2: \"Second\", 3: \"Third\"})\n",
    "titanic.Class.value_counts()"
   ]
  },
  {
   "cell_type": "code",
   "execution_count": 46,
   "metadata": {
    "collapsed": false
   },
   "outputs": [
    {
     "name": "stdout",
     "output_type": "stream",
     "text": [
      "0.63\n",
      "0.47\n",
      "0.24\n"
     ]
    }
   ],
   "source": [
    "#12. What is the survival rate for passengers in each of the three classes of service?\n",
    "def survival_rate(titanic, Pclass):\n",
    "    class_subset = titanic.Pclass == Pclass\n",
    "    total_count = titanic.Pclass[class_subset].count()\n",
    "    survival_count = titanic.Pclass[class_subset & (titanic.Survived ==1)].count()\n",
    "    return survival_count/float(total_count)\n",
    "print round(survival_rate(titanic, 1),2)\n",
    "print round(survival_rate(titanic, 2),2)\n",
    "print round(survival_rate(titanic, 3),2)"
   ]
  },
  {
   "cell_type": "code",
   "execution_count": 35,
   "metadata": {
    "collapsed": false
   },
   "outputs": [
    {
     "name": "stdout",
     "output_type": "stream",
     "text": [
      "It appears the survival rate was higher depending on which class the passenger was in i.e. First class had a higher survival rate\n"
     ]
    }
   ],
   "source": [
    "#13. What else might you conclude?\n",
    "print \"It appears the survival rate was higher depending on which class the passenger was in i.e. First class had a higher survival rate\""
   ]
  },
  {
   "cell_type": "code",
   "execution_count": 37,
   "metadata": {
    "collapsed": false
   },
   "outputs": [
    {
     "name": "stdout",
     "output_type": "stream",
     "text": [
      "Age, sex, pclass, parch, and ticket would appear to be predictive variables more so than the others especially as the others don't appear to have much intuitive use\n"
     ]
    }
   ],
   "source": [
    "#Last, if we were to build a predictive model, which features in the data do you think we should include in the model and which can we leave out? Why?\n",
    "print \"Age, sex, pclass, parch, and ticket would appear to be predictive variables more so than the others especially as the others don't appear to have much intuitive use\""
   ]
  },
  {
   "cell_type": "code",
   "execution_count": null,
   "metadata": {
    "collapsed": true
   },
   "outputs": [],
   "source": []
  }
 ],
 "metadata": {
  "kernelspec": {
   "display_name": "Python 2",
   "language": "python",
   "name": "python2"
  },
  "language_info": {
   "codemirror_mode": {
    "name": "ipython",
    "version": 2
   },
   "file_extension": ".py",
   "mimetype": "text/x-python",
   "name": "python",
   "nbconvert_exporter": "python",
   "pygments_lexer": "ipython2",
   "version": "2.7.9"
  }
 },
 "nbformat": 4,
 "nbformat_minor": 0
}
