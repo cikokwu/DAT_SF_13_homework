{
 "cells": [
  {
   "cell_type": "code",
   "execution_count": 3,
   "metadata": {
    "collapsed": true
   },
   "outputs": [],
   "source": [
    "#Import all the needed packages for this exercises\n",
    "%matplotlib inline\n",
    "from __future__ import division\n",
    "import pandas as pd\n",
    "import numpy as np\n",
    "#from seaborn import plt\n",
    "import matplotlib.pyplot as plt\n",
    "from sklearn.datasets import load_iris\n",
    "from matplotlib.colors import ListedColormap\n",
    "from sklearn import neighbors, datasets, feature_selection\n",
    "from sklearn.cross_validation import train_test_split, cross_val_score"
   ]
  },
  {
   "cell_type": "code",
   "execution_count": 4,
   "metadata": {
    "collapsed": true
   },
   "outputs": [],
   "source": [
    "#Create Iris dataframe from load_iris dataset and neighbors\n",
    "iris = datasets.load_iris()\n",
    "iris_df = pd.DataFrame(iris.data, columns=iris.feature_names)\n",
    "n_neighbors = range(1,75,1)"
   ]
  },
  {
   "cell_type": "code",
   "execution_count": 5,
   "metadata": {
    "collapsed": false
   },
   "outputs": [],
   "source": [
    "#Create Target column \n",
    "#fig, axes = plt.subplots(nrows=2, ncols=3)\n",
    "iris_df['Target'] = iris.target"
   ]
  },
  {
   "cell_type": "code",
   "execution_count": 6,
   "metadata": {
    "collapsed": false
   },
   "outputs": [],
   "source": [
    "# Create the training (and test) set using scikit-learn's train_test_split function\n",
    "X_train, X_test, y_train, y_test = train_test_split(iris.data, iris.target, test_size=0.3, random_state=12)"
   ]
  },
  {
   "cell_type": "code",
   "execution_count": 7,
   "metadata": {
    "collapsed": false
   },
   "outputs": [],
   "source": [
    "#Function for scores per neighbor\n",
    "scores = []\n",
    "for n in n_neighbors:\n",
    "    clf = neighbors.KNeighborsClassifier(n)\n",
    "    clf.fit(X_train, y_train)\n",
    "    scores.append(clf.score(X_test, y_test))"
   ]
  },
  {
   "cell_type": "code",
   "execution_count": 8,
   "metadata": {
    "collapsed": false
   },
   "outputs": [
    {
     "name": "stdout",
     "output_type": "stream",
     "text": [
      "I see that the more the neighbors, the lesser the classification rate, but the drop is very steep at 60 neighbors\n"
     ]
    },
    {
     "data": {
      "image/png": "[encoded data removed]",
      "text/plain": [
       "<matplotlib.figure.Figure at 0x108e1fdd0>"
      ]
     },
     "metadata": {},
     "output_type": "display_data"
    }
   ],
   "source": [
    "plt.plot(n_neighbors, scores, linewidth=3.0)\n",
    "print \"I see that the more the neighbors, the lesser the classification rate, but the drop is very steep at 60 neighbors\""
   ]
  },
  {
   "cell_type": "code",
   "execution_count": 9,
   "metadata": {
    "collapsed": false
   },
   "outputs": [
    {
     "name": "stdout",
     "output_type": "stream",
     "text": [
      "[ 0.96666667  1.          0.93333333  0.96666667  1.        ]\n",
      "0.973333333333\n"
     ]
    }
   ],
   "source": [
    "from sklearn.datasets import load_iris\n",
    "iris = datasets.load_iris()\n",
    "iris_df = pd.DataFrame(iris.data, columns=iris.feature_names)\n",
    "\n",
    "from sklearn.cross_validation import cross_val_score\n",
    "clf = neighbors.KNeighborsClassifier(5, weights='uniform')\n",
    "clf.fit(iris.data[:, 2:4], iris.target)\n",
    "scores = cross_val_score(clf, iris_df.values, iris.target, cv=5)\n",
    "print scores\n",
    "print scores.mean()"
   ]
  },
  {
   "cell_type": "code",
   "execution_count": 17,
   "metadata": {
    "collapsed": false
   },
   "outputs": [
    {
     "data": {
      "text/html": [
       "<div style=\"max-height:1000px;max-width:1500px;overflow:auto;\">\n",
       "<table border=\"1\" class=\"dataframe\">\n",
       "  <thead>\n",
       "    <tr style=\"text-align: right;\">\n",
       "      <th></th>\n",
       "      <th>sepal length (cm)</th>\n",
       "      <th>sepal width (cm)</th>\n",
       "      <th>petal length (cm)</th>\n",
       "      <th>petal width (cm)</th>\n",
       "      <th>target</th>\n",
       "    </tr>\n",
       "  </thead>\n",
       "  <tbody>\n",
       "    <tr>\n",
       "      <th>25 </th>\n",
       "      <td> 5.0</td>\n",
       "      <td> 3.0</td>\n",
       "      <td> 1.6</td>\n",
       "      <td> 0.2</td>\n",
       "      <td> 0</td>\n",
       "    </tr>\n",
       "    <tr>\n",
       "      <th>127</th>\n",
       "      <td> 6.1</td>\n",
       "      <td> 3.0</td>\n",
       "      <td> 4.9</td>\n",
       "      <td> 1.8</td>\n",
       "      <td> 2</td>\n",
       "    </tr>\n",
       "    <tr>\n",
       "      <th>19 </th>\n",
       "      <td> 5.1</td>\n",
       "      <td> 3.8</td>\n",
       "      <td> 1.5</td>\n",
       "      <td> 0.3</td>\n",
       "      <td> 0</td>\n",
       "    </tr>\n",
       "    <tr>\n",
       "      <th>70 </th>\n",
       "      <td> 5.9</td>\n",
       "      <td> 3.2</td>\n",
       "      <td> 4.8</td>\n",
       "      <td> 1.8</td>\n",
       "      <td> 1</td>\n",
       "    </tr>\n",
       "    <tr>\n",
       "      <th>117</th>\n",
       "      <td> 7.7</td>\n",
       "      <td> 3.8</td>\n",
       "      <td> 6.7</td>\n",
       "      <td> 2.2</td>\n",
       "      <td> 2</td>\n",
       "    </tr>\n",
       "  </tbody>\n",
       "</table>\n",
       "</div>"
      ],
      "text/plain": [
       "     sepal length (cm)  sepal width (cm)  petal length (cm)  petal width (cm)  \\\n",
       "25                 5.0               3.0                1.6               0.2   \n",
       "127                6.1               3.0                4.9               1.8   \n",
       "19                 5.1               3.8                1.5               0.3   \n",
       "70                 5.9               3.2                4.8               1.8   \n",
       "117                7.7               3.8                6.7               2.2   \n",
       "\n",
       "     target  \n",
       "25        0  \n",
       "127       2  \n",
       "19        0  \n",
       "70        1  \n",
       "117       2  "
      ]
     },
     "execution_count": 17,
     "metadata": {},
     "output_type": "execute_result"
    }
   ],
   "source": [
    "from sklearn.datasets import load_iris\n",
    "import pandas as pd\n",
    "import numpy as np\n",
    "\n",
    "iris = load_iris()\n",
    "iris_df = pd.DataFrame(iris.data, columns = iris.feature_names)\n",
    "iris_df['target'] = iris.target\n",
    "iris_shuffle = iris_df.reindex(np.random.permutation(iris_df.index))\n",
    "iris_shuffle.head()"
   ]
  },
  {
   "cell_type": "code",
   "execution_count": 19,
   "metadata": {
    "collapsed": false
   },
   "outputs": [
    {
     "name": "stdout",
     "output_type": "stream",
     "text": [
      "Cross validation score is 0.953333333333\n"
     ]
    }
   ],
   "source": [
    "from sklearn import neighbors\n",
    "num_folds = 5  # 5 fold cross validation\n",
    "rows_in_fold = len(iris_shuffle)/(num_folds)\n",
    "n = 10  # Let's assume the num neighbors to be 10 for this case\n",
    "scores = []\n",
    "for k in np.arange(num_folds):\n",
    "   test = iris_shuffle[int(rows_in_fold*k): int(rows_in_fold*(k +1))]\n",
    "   train = iris_shuffle.drop(test.index)\n",
    "   # Let's obtain the training and test datasets for model fitting\n",
    "   X_test = test.ix[:,0:4]  # extracting test features\n",
    "   Y_test = test.ix[:,4:5] # extracting test target\n",
    "   X_train = train.ix[:,0:4] # extracting train features\n",
    "   Y_train = train.ix[:,4:5]  # extracting train target\n",
    "   clf = neighbors.KNeighborsClassifier(n)\n",
    "   clf.fit(X_train,Y_train['target'].values)\n",
    "   scores.append(clf.score(X_test, Y_test['target'].values))\n",
    "print \"Cross validation score is {}\".format(np.mean(scores))"
   ]
  },
  {
   "cell_type": "code",
   "execution_count": null,
   "metadata": {
    "collapsed": true
   },
   "outputs": [],
   "source": []
  }
 ],
 "metadata": {
  "kernelspec": {
   "display_name": "Python 2",
   "language": "python",
   "name": "python2"
  },
  "language_info": {
   "codemirror_mode": {
    "name": "ipython",
    "version": 2
   },
   "file_extension": ".py",
   "mimetype": "text/x-python",
   "name": "python",
   "nbconvert_exporter": "python",
   "pygments_lexer": "ipython2",
   "version": "2.7.9"
  }
 },
 "nbformat": 4,
 "nbformat_minor": 0
}
